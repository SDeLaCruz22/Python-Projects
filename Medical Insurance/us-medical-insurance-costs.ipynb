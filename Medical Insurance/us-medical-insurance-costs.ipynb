{
 "cells": [
  {
   "cell_type": "markdown",
   "metadata": {},
   "source": [
    "# U.S. Medical Insurance Costs"
   ]
  },
  {
   "cell_type": "code",
   "execution_count": 5,
   "metadata": {},
   "outputs": [],
   "source": [
    "import csv"
   ]
  },
  {
   "cell_type": "code",
   "execution_count": 6,
   "metadata": {},
   "outputs": [],
   "source": [
    "insdata = []\n",
    "with open(\"insurance.csv\") as insfile:\n",
    "    for x in insfile.readlines():\n",
    "        string = x\n",
    "        stringlst = string.split(\",\")\n",
    "        stringlst[-1] = stringlst[-1][:-2] #take away the '/n' characters\n",
    "        #print(stringlst)\n",
    "        if stringlst[0] == \"age\":\n",
    "            continue\n",
    "        dict = {\"Age\": stringlst[0], \"Sex\": stringlst[1], \"BMI\": stringlst[2], \"Number of Children\": stringlst[3], \"Smoker\": stringlst[4], \"Region\": stringlst[5], \"Charge\": stringlst[6]}\n",
    "        #print(dict)\n",
    "        insdata.append(dict)\n",
    "        #print(insdata)"
   ]
  },
  {
   "cell_type": "code",
   "execution_count": 7,
   "metadata": {},
   "outputs": [],
   "source": [
    "def avg(subjects, key): #subjects is a list of the insurance holders (that are dictionaries), and specifies what key to compare\n",
    "    if len(subjects) == 0:\n",
    "        print(\"No subjects in sample.\")\n",
    "        return 0\n",
    "    total = 0\n",
    "    for x in range(len(subjects)):\n",
    "        total += float(subjects[x][key])\n",
    "    avg = total / len(subjects)\n",
    "    print(\"The average {key} with this sample is {avg}\".format(key = key, avg = avg))\n",
    "    return avg"
   ]
  },
  {
   "cell_type": "code",
   "execution_count": 8,
   "metadata": {},
   "outputs": [
    {
     "name": "stdout",
     "output_type": "stream",
     "text": [
      "The average Charge with this sample is 13244.379334013456\n",
      "The average Age with this sample is 39.20702541106129\n",
      "The average BMI with this sample is 30.663396860986538\n",
      "The average Number of Children with this sample is 1.0949177877429\n"
     ]
    },
    {
     "data": {
      "text/plain": [
       "1.0949177877429"
      ]
     },
     "execution_count": 8,
     "metadata": {},
     "output_type": "execute_result"
    }
   ],
   "source": [
    "avg(insdata, \"Charge\")\n",
    "avg(insdata, \"Age\")\n",
    "avg(insdata, \"BMI\")\n",
    "avg(insdata, \"Number of Children\")"
   ]
  },
  {
   "cell_type": "code",
   "execution_count": 9,
   "metadata": {},
   "outputs": [],
   "source": [
    "def buildSample(insdata, key, keyvalue): #key & keyvalue are used to find a new sample given the specific parameters, i.e. find a sample where it only contains people with 1 child only\n",
    "    #recall that insdata is a list of dictionaries\n",
    "    #also recall that the values in the insdata dictionaries are ALL strings\n",
    "    newsample = []\n",
    "    for x in range(len(insdata)):\n",
    "        if insdata[x][key] != keyvalue:\n",
    "            continue #invalid data, move on to next person\n",
    "        #valid data, add the dictionary to the new sample\n",
    "        #print(insdata[x])\n",
    "        newsample.append(insdata[x])\n",
    "    return newsample"
   ]
  },
  {
   "cell_type": "code",
   "execution_count": 10,
   "metadata": {},
   "outputs": [
    {
     "name": "stdout",
     "output_type": "stream",
     "text": [
      "The average Charge with this sample is 14928.391841249999\n",
      "The average Age with this sample is 39.44583333333333\n",
      "The average BMI with this sample is 30.97810416666667\n",
      "The average Number of Children with this sample is 2.0\n"
     ]
    },
    {
     "data": {
      "text/plain": [
       "2.0"
      ]
     },
     "execution_count": 10,
     "metadata": {},
     "output_type": "execute_result"
    }
   ],
   "source": [
    "ParentOf2 = buildSample(insdata, \"Number of Children\", \"2\")\n",
    "avg(ParentOf2, \"Charge\")\n",
    "avg(ParentOf2, \"Age\")\n",
    "avg(ParentOf2, \"BMI\")\n",
    "avg(ParentOf2, \"Number of Children\")"
   ]
  },
  {
   "cell_type": "markdown",
   "metadata": {},
   "source": []
  },
  {
   "cell_type": "code",
   "execution_count": 11,
   "metadata": {},
   "outputs": [],
   "source": [
    "def buildMultiVariSample(insdata, keys, keyvalues): #keys & keyvalues are used to find a new sample given the specific parameters, i.e. find a sample where it only contains people with 1 child only\n",
    "    #modified version where this takes in lists of parameters rather than a single one\n",
    "    #recall that insdata is a list of dictionaries\n",
    "    #also recall that the values in the insdata dictionaries are ALL strings\n",
    "    newsample = []\n",
    "    if len(keys) != len(keyvalues):\n",
    "        print(len(keys), len(keyvalues))\n",
    "        print(\"Invalid Parameters\")\n",
    "        return newsample\n",
    "    for x in range(len(insdata)):\n",
    "        count = 0\n",
    "        for y in range(len(keys)): \n",
    "            if insdata[x][keys[y]] != keyvalues[y]:\n",
    "                break\n",
    "            count +=1 #if count gets to be as long as the key length, then that measn that data set is valid\n",
    "        if count != len(keys):\n",
    "            continue #invalid data, move on to next person\n",
    "        #valid data, add the dictionary to the new sample\n",
    "        #print(insdata[x])\n",
    "        newsample.append(insdata[x])\n",
    "    return newsample"
   ]
  },
  {
   "cell_type": "code",
   "execution_count": 12,
   "metadata": {},
   "outputs": [
    {
     "name": "stdout",
     "output_type": "stream",
     "text": [
      "The average Charge with this sample is 8744.111253846153\n",
      "The average BMI with this sample is 29.50884615384615\n",
      "The average Number of Children with this sample is 1.0769230769230769\n"
     ]
    },
    {
     "data": {
      "text/plain": [
       "1.0769230769230769"
      ]
     },
     "execution_count": 12,
     "metadata": {},
     "output_type": "execute_result"
    }
   ],
   "source": [
    "f31 = buildMultiVariSample(insdata, [\"Age\", \"Sex\"], [\"31\", \"female\"])\n",
    "avg(f31, \"Charge\")\n",
    "avg(f31, \"BMI\")\n",
    "avg(f31, \"Number of Children\")"
   ]
  },
  {
   "cell_type": "code",
   "execution_count": 13,
   "metadata": {},
   "outputs": [],
   "source": [
    "def rangedSample(insdata, key, minval, maxval): #takes in the insurance data, a key for the dictionary, and 2 number values for the key\n",
    "    sample = []\n",
    "    for x in range(minval, maxval+1):\n",
    "        sample += buildSample(insdata, key, str(x))\n",
    "    return sample"
   ]
  },
  {
   "cell_type": "code",
   "execution_count": 14,
   "metadata": {},
   "outputs": [
    {
     "name": "stdout",
     "output_type": "stream",
     "text": [
      "The average Charge with this sample is 11423.286593849203\n",
      "The average Age with this sample is 33.88690476190476\n",
      "The average BMI with this sample is 30.19545634920634\n",
      "The average Number of Children with this sample is 1.3908730158730158\n"
     ]
    },
    {
     "data": {
      "text/plain": [
       "1.3908730158730158"
      ]
     },
     "execution_count": 14,
     "metadata": {},
     "output_type": "execute_result"
    }
   ],
   "source": [
    "Age25to43 = rangedSample(insdata, \"Age\", 25, 43)\n",
    "avg(Age25to43, \"Charge\")\n",
    "avg(Age25to43, \"Age\")\n",
    "avg(Age25to43, \"BMI\")\n",
    "avg(Age25to43, \"Number of Children\")"
   ]
  },
  {
   "cell_type": "code",
   "execution_count": 15,
   "metadata": {},
   "outputs": [],
   "source": [
    "#Now that we have our prototype functions, lets create a class so we can do some more interesting things with this\n",
    "#Mainly, instead of using BuildMultiVariSample, what if we had an easier way of combining samples by overloading the \n",
    "#operators. To do this we will need a class to create objects\n",
    "class Insurance:\n",
    "    def __init__(self):\n",
    "        self.insdata = []\n",
    "        self.defaultdata = []\n",
    "        #this entire section should only happen once\n",
    "        with open(\"insurance.csv\") as insfile:\n",
    "            count = 0\n",
    "            for x in insfile.readlines():\n",
    "                string = x\n",
    "                stringlst = string.split(\",\")\n",
    "                stringlst[-1] = stringlst[-1][:-2] #take away the '/n' characters\n",
    "                #print(stringlst)\n",
    "                if stringlst[0] == \"age\":\n",
    "                    continue\n",
    "                count += 1 #this will be the ID of the person which will make it easier for some functions\n",
    "                dict = {\"ID\": str(count), \"Age\": stringlst[0], \"Sex\": stringlst[1], \"BMI\": stringlst[2], \"Number of Children\": stringlst[3], \"Smoker\": stringlst[4], \"Region\": stringlst[5], \"Charge\": stringlst[6]}\n",
    "                #print(dict)\n",
    "                self.defaultdata.append(dict)\n",
    "                #print(insdata)\n",
    "                \n",
    "    #def defaultSample(self): #the only time default data is ever called, uses more memory but a lot faster\n",
    "     #   if len(self.defaultdata) > 0 \n",
    "     #       self.insdata = self.defaultdata\n",
    "        \n",
    "    \n",
    "    def buildSample(self, key, keyvalue): #key & keyvalue are used to find a new sample given the specific parameters, i.e. find a sample where it only contains people with 1 child only\n",
    "        #recall that insdata is a list of dictionaries\n",
    "        #also recall that the values in the insdata dictionaries are ALL strings\n",
    "        \n",
    "        self.insdata = []\n",
    "        \n",
    "        for x in range(len(self.defaultdata)):\n",
    "            if self.defaultdata[x][key] != keyvalue:\n",
    "                continue #invalid data, move on to next person\n",
    "            #valid data, add the dictionary to the new sample\n",
    "            self.insdata.append(self.defaultdata[x])\n",
    "        \n",
    "    \n",
    "    def rangedSample(self, key, minval, maxval): #takes in the insurance data, a key for the dictionary, and 2 number values for the key\n",
    "        sample = []\n",
    "        for x in range(minval, maxval+1):\n",
    "            self.buildSample(key, str(x)) #recall taht buildSample first refreshes all its lost memory\n",
    "            sample += self.insdata\n",
    "            \n",
    "        self.insdata = sample\n",
    "        \n",
    "    def avg(self, key): #subjects is a list of the insurance holders (that are dictionaries), and specifies what key to compare\n",
    "        if len(self.insdata) == 0:\n",
    "            print(\"No subjects in sample.\")\n",
    "            return 0\n",
    "        total = 0\n",
    "        for x in range(len(self.insdata)):\n",
    "            total += float(self.insdata[x][key])\n",
    "        avg = total / len(self.insdata)\n",
    "        print(\"The average {key} with this sample is {avg}\".format(key = key, avg = avg))\n",
    "        return avg\n",
    "    \n",
    "    def __IADD__(self, other): #unionize with another sample, check for duplicates\n",
    "        for x in range(other.insdata):\n",
    "            if other.insdata[x] in self.insdata:\n",
    "                continue\n",
    "            self.insdata.append(other.insdata[x])\n",
    "        return self\n",
    "        \n",
    "    def __IMUL__(self, other): #check only for ones that are the shared, this will overwrite the first object\n",
    "        #pass\n",
    "        combined = []\n",
    "        for x in range(len(self.insdata)):\n",
    "            if self.insdata[x] in other.insdata:\n",
    "                combined.append(self.insdata[x])\n",
    "        self.insdata = combined\n",
    "        return self\n",
    "    \n",
    "    def __mul__(self, other):\n",
    "        newsample = Insurance()\n",
    "        newsample.insdata = []\n",
    "        \n",
    "        for x in range(len(self.insdata)):\n",
    "            if self.insdata[x] in other.insdata:\n",
    "                newsample.insdata.append(self.insdata[x])\n",
    "        return newsample\n",
    "    \n",
    "    def __add__(self, other):\n",
    "        newsample = Insurance()\n",
    "        newsample.insdata = self.insdata\n",
    "        \n",
    "        for x in range(len(other.insdata)):\n",
    "            if other.insdata[x] in self.insdata:\n",
    "                continue\n",
    "            newsample.insdata.append(other.insdata[x])\n",
    "        return newsample"
   ]
  },
  {
   "cell_type": "raw",
   "metadata": {},
   "source": []
  },
  {
   "cell_type": "code",
   "execution_count": 16,
   "metadata": {
    "scrolled": false
   },
   "outputs": [
    {
     "name": "stdout",
     "output_type": "stream",
     "text": [
      "Female data:\n",
      "The average Charge with this sample is 12569.575015271894\n",
      "The average Age with this sample is 39.503021148036254\n",
      "The average BMI with this sample is 30.377749244713023\n",
      "The average Number of Children with this sample is 1.0740181268882176\n",
      "\n",
      "BMI 20-23 data:\n",
      "The average Charge with this sample is 7029.585\n",
      "The average Age with this sample is 37.0\n",
      "The average BMI with this sample is 22.5\n",
      "The average Number of Children with this sample is 2.0\n",
      "\n",
      "Parent of 5 children data:\n",
      "The average Charge with this sample is 8786.024088888887\n",
      "The average Age with this sample is 35.611111111111114\n",
      "The average BMI with this sample is 29.605000000000004\n",
      "The average Number of Children with this sample is 5.0\n",
      "\n",
      "BMI 20-23 and/or Parent of 5 data:\n",
      "The average Charge with this sample is 8610.38018\n",
      "The average Age with this sample is 35.75\n",
      "The average BMI with this sample is 28.894499999999994\n",
      "The average Number of Children with this sample is 4.7\n",
      "\n",
      "Female and Mother of 5 data:\n",
      "The average Charge with this sample is 12569.575015271894\n",
      "The average Age with this sample is 39.503021148036254\n",
      "The average BMI with this sample is 30.377749244713023\n",
      "The average Number of Children with this sample is 1.0740181268882176\n",
      "\n",
      "Female & BMI 20-23 data:\n",
      "The average Charge with this sample is 10102.93541111111\n",
      "The average Age with this sample is 38.888888888888886\n",
      "The average BMI with this sample is 29.773888888888887\n",
      "The average Number of Children with this sample is 4.777777777777778\n"
     ]
    },
    {
     "data": {
      "text/plain": [
       "4.777777777777778"
      ]
     },
     "execution_count": 16,
     "metadata": {},
     "output_type": "execute_result"
    }
   ],
   "source": [
    "test = Insurance()\n",
    "test.buildSample(\"Sex\", \"female\")\n",
    "#print(test.insdata)\n",
    "print(\"Female data:\")\n",
    "test.avg(\"Charge\")\n",
    "test.avg(\"Age\")\n",
    "test.avg(\"BMI\")\n",
    "test.avg(\"Number of Children\")\n",
    "\n",
    "test2 = Insurance()\n",
    "test2.rangedSample(\"BMI\", 20, 23)\n",
    "#print(test2.insdata)\n",
    "print(\"\\nBMI 20-23 data:\")\n",
    "test2.avg(\"Charge\")\n",
    "test2.avg(\"Age\")\n",
    "test2.avg(\"BMI\")\n",
    "test2.avg(\"Number of Children\")\n",
    "\n",
    "test3 = Insurance()\n",
    "test3.buildSample(\"Number of Children\", \"5\")\n",
    "#print(test3.insdata)\n",
    "print(\"\\nParent of 5 children data:\")\n",
    "test3.avg(\"Charge\")\n",
    "test3.avg(\"Age\")\n",
    "test3.avg(\"BMI\")\n",
    "test3.avg(\"Number of Children\")\n",
    "\n",
    "test4 = test2 + test3\n",
    "#print(test4.insdata)\n",
    "print(\"\\nBMI 20-23 and/or Parent of 5 data:\")\n",
    "test4.avg(\"Charge\")\n",
    "test4.avg(\"Age\")\n",
    "test4.avg(\"BMI\")\n",
    "test4.avg(\"Number of Children\")\n",
    "\n",
    "test5 = test * test3\n",
    "#print(test5.insdata)\n",
    "print(\"\\nFemale and Mother of 5 data:\")\n",
    "test.avg(\"Charge\")\n",
    "test.avg(\"Age\")\n",
    "test.avg(\"BMI\")\n",
    "test.avg(\"Number of Children\")\n",
    "\n",
    "test *= test2\n",
    "#print(test.insdata)\n",
    "print(\"\\nFemale & BMI 20-23 data:\")\n",
    "test.avg(\"Charge\")\n",
    "test.avg(\"Age\")\n",
    "test.avg(\"BMI\")\n",
    "test.avg(\"Number of Children\")\n"
   ]
  },
  {
   "cell_type": "code",
   "execution_count": null,
   "metadata": {},
   "outputs": [],
   "source": []
  },
  {
   "cell_type": "code",
   "execution_count": null,
   "metadata": {},
   "outputs": [],
   "source": []
  }
 ],
 "metadata": {
  "kernelspec": {
   "display_name": "Python 3",
   "language": "python",
   "name": "python3"
  },
  "language_info": {
   "codemirror_mode": {
    "name": "ipython",
    "version": 3
   },
   "file_extension": ".py",
   "mimetype": "text/x-python",
   "name": "python",
   "nbconvert_exporter": "python",
   "pygments_lexer": "ipython3",
   "version": "3.8.8"
  }
 },
 "nbformat": 4,
 "nbformat_minor": 4
}
